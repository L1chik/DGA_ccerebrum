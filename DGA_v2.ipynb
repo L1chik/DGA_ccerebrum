{
 "cells": [
  {
   "cell_type": "markdown",
   "metadata": {},
   "source": [
    "# Хакатон МТУСИ 2020\n",
    "\n",
    "## Участники: Власов Глеб, Щитов Владислав"
   ]
  },
  {
   "cell_type": "code",
   "execution_count": 43,
   "metadata": {},
   "outputs": [],
   "source": [
    "import pyprind\n",
    "import pandas as pd\n",
    "import numpy as np\n",
    "import tensorflow as tf\n",
    "import matplotlib.pyplot as plt\n",
    "import random\n",
    "\n",
    "from collections import Counter \n",
    "from string import punctuation\n",
    "from sklearn.utils import shuffle\n",
    "from sklearn.metrics import roc_auc_score, f1_score, precision_score\n",
    "from sklearn.model_selection import train_test_split\n",
    "from tensorflow.keras.callbacks import EarlyStopping, ModelCheckpoint\n",
    "from tensorflow.keras.layers import Embedding, Dense, Dropout, Activation, LSTM, Conv1D, MaxPool1D, GRU\n",
    "from tensorflow.keras.models import load_model, save_model\n",
    "\n",
    "%matplotlib inline"
   ]
  },
  {
   "cell_type": "markdown",
   "metadata": {},
   "source": [
    "### Загрузка датасетов"
   ]
  },
  {
   "cell_type": "code",
   "execution_count": 2,
   "metadata": {},
   "outputs": [
    {
     "data": {
      "text/html": [
       "<div>\n",
       "<style scoped>\n",
       "    .dataframe tbody tr th:only-of-type {\n",
       "        vertical-align: middle;\n",
       "    }\n",
       "\n",
       "    .dataframe tbody tr th {\n",
       "        vertical-align: top;\n",
       "    }\n",
       "\n",
       "    .dataframe thead th {\n",
       "        text-align: right;\n",
       "    }\n",
       "</style>\n",
       "<table border=\"1\" class=\"dataframe\">\n",
       "  <thead>\n",
       "    <tr style=\"text-align: right;\">\n",
       "      <th></th>\n",
       "      <th>domain</th>\n",
       "      <th>indexes</th>\n",
       "    </tr>\n",
       "  </thead>\n",
       "  <tbody>\n",
       "    <tr>\n",
       "      <th>375</th>\n",
       "      <td>loxirpogirv.kz</td>\n",
       "      <td>1</td>\n",
       "    </tr>\n",
       "    <tr>\n",
       "      <th>1832</th>\n",
       "      <td>vudaupemo.ddns.net</td>\n",
       "      <td>1</td>\n",
       "    </tr>\n",
       "    <tr>\n",
       "      <th>1479</th>\n",
       "      <td>cdghkmcfihko.net</td>\n",
       "      <td>1</td>\n",
       "    </tr>\n",
       "    <tr>\n",
       "      <th>602</th>\n",
       "      <td>kyskuoumaogmuiyw.org</td>\n",
       "      <td>1</td>\n",
       "    </tr>\n",
       "    <tr>\n",
       "      <th>1951</th>\n",
       "      <td>sedoestnessbiophysicalohax.com</td>\n",
       "      <td>1</td>\n",
       "    </tr>\n",
       "  </tbody>\n",
       "</table>\n",
       "</div>"
      ],
      "text/plain": [
       "                              domain  indexes\n",
       "375                   loxirpogirv.kz        1\n",
       "1832              vudaupemo.ddns.net        1\n",
       "1479                cdghkmcfihko.net        1\n",
       "602             kyskuoumaogmuiyw.org        1\n",
       "1951  sedoestnessbiophysicalohax.com        1"
      ]
     },
     "execution_count": 2,
     "metadata": {},
     "output_type": "execute_result"
    }
   ],
   "source": [
    "dga_test = pd.read_csv('dga_test', sep='\\t')\n",
    "dga_test.columns = ['domain', 'indexes']\n",
    "dga_test.indexes = dga_test.indexes.apply(lambda x: x-(x-1))\n",
    "dga_test.sample(5)"
   ]
  },
  {
   "cell_type": "code",
   "execution_count": 3,
   "metadata": {},
   "outputs": [
    {
     "data": {
      "text/html": [
       "<div>\n",
       "<style scoped>\n",
       "    .dataframe tbody tr th:only-of-type {\n",
       "        vertical-align: middle;\n",
       "    }\n",
       "\n",
       "    .dataframe tbody tr th {\n",
       "        vertical-align: top;\n",
       "    }\n",
       "\n",
       "    .dataframe thead th {\n",
       "        text-align: right;\n",
       "    }\n",
       "</style>\n",
       "<table border=\"1\" class=\"dataframe\">\n",
       "  <thead>\n",
       "    <tr style=\"text-align: right;\">\n",
       "      <th></th>\n",
       "      <th>domain</th>\n",
       "      <th>indexes</th>\n",
       "    </tr>\n",
       "  </thead>\n",
       "  <tbody>\n",
       "    <tr>\n",
       "      <th>9161</th>\n",
       "      <td>lfbiers.info</td>\n",
       "      <td>1</td>\n",
       "    </tr>\n",
       "    <tr>\n",
       "      <th>11646</th>\n",
       "      <td>hnhwicb.in</td>\n",
       "      <td>1</td>\n",
       "    </tr>\n",
       "    <tr>\n",
       "      <th>3539</th>\n",
       "      <td>745x7jk6evgja0m87vu.ddns.net</td>\n",
       "      <td>1</td>\n",
       "    </tr>\n",
       "    <tr>\n",
       "      <th>1551</th>\n",
       "      <td>mkeguttudxxipkioi.net</td>\n",
       "      <td>1</td>\n",
       "    </tr>\n",
       "    <tr>\n",
       "      <th>13012</th>\n",
       "      <td>gwdxijyztw.com</td>\n",
       "      <td>1</td>\n",
       "    </tr>\n",
       "  </tbody>\n",
       "</table>\n",
       "</div>"
      ],
      "text/plain": [
       "                             domain  indexes\n",
       "9161                   lfbiers.info        1\n",
       "11646                    hnhwicb.in        1\n",
       "3539   745x7jk6evgja0m87vu.ddns.net        1\n",
       "1551          mkeguttudxxipkioi.net        1\n",
       "13012                gwdxijyztw.com        1"
      ]
     },
     "execution_count": 3,
     "metadata": {},
     "output_type": "execute_result"
    }
   ],
   "source": [
    "dga_train = pd.read_csv('dga_train', sep='\\t')\n",
    "dga_train.columns = ['domain', 'indexes']\n",
    "dga_train.indexes = dga_train.indexes.apply(lambda x: x-(x-1))\n",
    "dga_train.sample(5)"
   ]
  },
  {
   "cell_type": "code",
   "execution_count": 4,
   "metadata": {},
   "outputs": [
    {
     "data": {
      "text/html": [
       "<div>\n",
       "<style scoped>\n",
       "    .dataframe tbody tr th:only-of-type {\n",
       "        vertical-align: middle;\n",
       "    }\n",
       "\n",
       "    .dataframe tbody tr th {\n",
       "        vertical-align: top;\n",
       "    }\n",
       "\n",
       "    .dataframe thead th {\n",
       "        text-align: right;\n",
       "    }\n",
       "</style>\n",
       "<table border=\"1\" class=\"dataframe\">\n",
       "  <thead>\n",
       "    <tr style=\"text-align: right;\">\n",
       "      <th></th>\n",
       "      <th>domain</th>\n",
       "      <th>indexes</th>\n",
       "    </tr>\n",
       "  </thead>\n",
       "  <tbody>\n",
       "    <tr>\n",
       "      <th>2966</th>\n",
       "      <td>acoustica.com</td>\n",
       "      <td>0</td>\n",
       "    </tr>\n",
       "    <tr>\n",
       "      <th>6067</th>\n",
       "      <td>delta.app</td>\n",
       "      <td>0</td>\n",
       "    </tr>\n",
       "    <tr>\n",
       "      <th>7545</th>\n",
       "      <td>nbcsports.com</td>\n",
       "      <td>0</td>\n",
       "    </tr>\n",
       "    <tr>\n",
       "      <th>7794</th>\n",
       "      <td>easymanage.biz</td>\n",
       "      <td>0</td>\n",
       "    </tr>\n",
       "    <tr>\n",
       "      <th>8260</th>\n",
       "      <td>orgamix.vn</td>\n",
       "      <td>0</td>\n",
       "    </tr>\n",
       "  </tbody>\n",
       "</table>\n",
       "</div>"
      ],
      "text/plain": [
       "              domain  indexes\n",
       "2966   acoustica.com        0\n",
       "6067       delta.app        0\n",
       "7545   nbcsports.com        0\n",
       "7794  easymanage.biz        0\n",
       "8260      orgamix.vn        0"
      ]
     },
     "execution_count": 4,
     "metadata": {},
     "output_type": "execute_result"
    }
   ],
   "source": [
    "legit_train = pd.read_csv('legit_train', sep='\\t')\n",
    "legit_train.columns = ['domain']\n",
    "legit_train['indexes'] = 0\n",
    "legit_train.sample(5)"
   ]
  },
  {
   "cell_type": "code",
   "execution_count": 5,
   "metadata": {},
   "outputs": [
    {
     "data": {
      "text/plain": [
       "2999"
      ]
     },
     "execution_count": 5,
     "metadata": {},
     "output_type": "execute_result"
    }
   ],
   "source": [
    "legit_test = pd.read_csv('legit_test', sep='\\t')\n",
    "legit_test.columns = ['domain']\n",
    "legit_test['indexes'] = 0\n",
    "legit_test.sample(5)\n",
    "len(legit_test)"
   ]
  },
  {
   "cell_type": "markdown",
   "metadata": {},
   "source": [
    "### Обработка датасета"
   ]
  },
  {
   "cell_type": "code",
   "execution_count": 6,
   "metadata": {},
   "outputs": [
    {
     "data": {
      "text/html": [
       "<div>\n",
       "<style scoped>\n",
       "    .dataframe tbody tr th:only-of-type {\n",
       "        vertical-align: middle;\n",
       "    }\n",
       "\n",
       "    .dataframe tbody tr th {\n",
       "        vertical-align: top;\n",
       "    }\n",
       "\n",
       "    .dataframe thead th {\n",
       "        text-align: right;\n",
       "    }\n",
       "</style>\n",
       "<table border=\"1\" class=\"dataframe\">\n",
       "  <thead>\n",
       "    <tr style=\"text-align: right;\">\n",
       "      <th></th>\n",
       "      <th>domain</th>\n",
       "      <th>indexes</th>\n",
       "    </tr>\n",
       "  </thead>\n",
       "  <tbody>\n",
       "    <tr>\n",
       "      <th>0</th>\n",
       "      <td>ademaltan.com.tr</td>\n",
       "      <td>0</td>\n",
       "    </tr>\n",
       "    <tr>\n",
       "      <th>1</th>\n",
       "      <td>ahedu.gov.cn</td>\n",
       "      <td>0</td>\n",
       "    </tr>\n",
       "    <tr>\n",
       "      <th>2</th>\n",
       "      <td>firstory.me</td>\n",
       "      <td>0</td>\n",
       "    </tr>\n",
       "    <tr>\n",
       "      <th>3</th>\n",
       "      <td>major-nissan.ru</td>\n",
       "      <td>0</td>\n",
       "    </tr>\n",
       "    <tr>\n",
       "      <th>4</th>\n",
       "      <td>torplay.ir</td>\n",
       "      <td>0</td>\n",
       "    </tr>\n",
       "    <tr>\n",
       "      <th>5</th>\n",
       "      <td>sudutnusantara.com</td>\n",
       "      <td>0</td>\n",
       "    </tr>\n",
       "    <tr>\n",
       "      <th>6</th>\n",
       "      <td>articlexpress.co.uk</td>\n",
       "      <td>0</td>\n",
       "    </tr>\n",
       "    <tr>\n",
       "      <th>7</th>\n",
       "      <td>kashmirfight.wordpress.com</td>\n",
       "      <td>0</td>\n",
       "    </tr>\n",
       "    <tr>\n",
       "      <th>8</th>\n",
       "      <td>crackedlink.com</td>\n",
       "      <td>0</td>\n",
       "    </tr>\n",
       "    <tr>\n",
       "      <th>9</th>\n",
       "      <td>traiborg.com</td>\n",
       "      <td>0</td>\n",
       "    </tr>\n",
       "  </tbody>\n",
       "</table>\n",
       "</div>"
      ],
      "text/plain": [
       "                       domain  indexes\n",
       "0            ademaltan.com.tr        0\n",
       "1                ahedu.gov.cn        0\n",
       "2                 firstory.me        0\n",
       "3             major-nissan.ru        0\n",
       "4                  torplay.ir        0\n",
       "5          sudutnusantara.com        0\n",
       "6         articlexpress.co.uk        0\n",
       "7  kashmirfight.wordpress.com        0\n",
       "8             crackedlink.com        0\n",
       "9                traiborg.com        0"
      ]
     },
     "execution_count": 6,
     "metadata": {},
     "output_type": "execute_result"
    }
   ],
   "source": [
    "dga = pd.concat([dga_train, dga_test], ignore_index=True)\n",
    "legit = pd.concat([legit_train, legit_test], ignore_index=True)\n",
    "domains = pd.concat([legit_train, legit_test,\n",
    "                    dga_train, dga_test], ignore_index=True)\n",
    "X = domains.domain.tolist()\n",
    "domains.head(10)"
   ]
  },
  {
   "cell_type": "code",
   "execution_count": 7,
   "metadata": {},
   "outputs": [],
   "source": [
    "counts = Counter()\n",
    "unique_symbols = enumerate(set(''.join(domains.domain.tolist())))\n",
    "\n",
    "for i, symbol in unique_symbols:\n",
    "    counts.update(symbol.split())"
   ]
  },
  {
   "cell_type": "code",
   "execution_count": 8,
   "metadata": {},
   "outputs": [],
   "source": [
    "symbol_counts = sorted(counts, key=counts.get)\n",
    "symbol_toint = {symbol: i for i, symbol in enumerate(symbol_counts, 1)}\n",
    "# symbol_toint"
   ]
  },
  {
   "cell_type": "code",
   "execution_count": 9,
   "metadata": {},
   "outputs": [],
   "source": [
    "mapped_domains = []\n",
    "\n",
    "for domain in domains.domain:\n",
    "    domain_int = []\n",
    "    for char in domain:\n",
    "        domain_int.append(symbol_toint[char])\n",
    "    mapped_domains.append(domain_int)"
   ]
  },
  {
   "cell_type": "code",
   "execution_count": 10,
   "metadata": {},
   "outputs": [
    {
     "data": {
      "text/plain": [
       "list"
      ]
     },
     "execution_count": 10,
     "metadata": {},
     "output_type": "execute_result"
    }
   ],
   "source": [
    "type(mapped_domains)"
   ]
  },
  {
   "cell_type": "code",
   "execution_count": 11,
   "metadata": {},
   "outputs": [
    {
     "data": {
      "text/plain": [
       "'ademaltan.com.tr'"
      ]
     },
     "execution_count": 11,
     "metadata": {},
     "output_type": "execute_result"
    }
   ],
   "source": [
    "X[0]"
   ]
  },
  {
   "cell_type": "code",
   "execution_count": 12,
   "metadata": {},
   "outputs": [
    {
     "data": {
      "text/plain": [
       "(28967, 53)"
      ]
     },
     "execution_count": 12,
     "metadata": {},
     "output_type": "execute_result"
    }
   ],
   "source": [
    "sequence_length = np.max([len(domain) for domain in domains.domain])\n",
    "sequences = np.zeros((len(mapped_domains), sequence_length), dtype=int)\n",
    "sequences.shape"
   ]
  },
  {
   "cell_type": "markdown",
   "metadata": {},
   "source": [
    "### Вариант 1:"
   ]
  },
  {
   "cell_type": "code",
   "execution_count": 13,
   "metadata": {},
   "outputs": [
    {
     "data": {
      "text/plain": [
       "(28967, 53)"
      ]
     },
     "execution_count": 13,
     "metadata": {},
     "output_type": "execute_result"
    }
   ],
   "source": [
    "for i, row in enumerate(mapped_domains):\n",
    "    domain_arr = np.array(row)\n",
    "    sequences[i, -len(row):] = domain_arr[-sequence_length:]\n",
    "type(sequences)\n",
    "sequences.shape"
   ]
  },
  {
   "cell_type": "markdown",
   "metadata": {},
   "source": [
    "### Вариант 2: "
   ]
  },
  {
   "cell_type": "code",
   "execution_count": 14,
   "metadata": {},
   "outputs": [
    {
     "data": {
      "text/plain": [
       "array([0., 0., 0., ..., 1., 1., 1.])"
      ]
     },
     "execution_count": 14,
     "metadata": {},
     "output_type": "execute_result"
    }
   ],
   "source": [
    "sequences2 = tf.keras.preprocessing.sequence.pad_sequences(\n",
    "    mapped_domains, sequence_length)\n",
    "sequences_val = np.hstack([np.zeros(len(dga_test)+len(dga_train)),\n",
    "                          np.ones(len(legit_test)+len(legit_train))])\n",
    "sequences_val\n",
    "# domains"
   ]
  },
  {
   "cell_type": "code",
   "execution_count": 47,
   "metadata": {},
   "outputs": [],
   "source": [
    "X_train, X_test, Y_train, Y_test = train_test_split(\n",
    "    sequences, sequences_val, test_size=0.2, shuffle=True)"
   ]
  },
  {
   "cell_type": "code",
   "execution_count": 16,
   "metadata": {},
   "outputs": [
    {
     "data": {
      "text/plain": [
       "(23173, 53)"
      ]
     },
     "execution_count": 16,
     "metadata": {},
     "output_type": "execute_result"
    }
   ],
   "source": [
    "X_train.shape"
   ]
  },
  {
   "cell_type": "code",
   "execution_count": 17,
   "metadata": {},
   "outputs": [],
   "source": [
    "def create_batch_generator(x, y=None, batch_size=64):\n",
    "    n_batches = len(x)//batch_size\n",
    "    x = x[:n_batches*batch_size]\n",
    "    if y is not None:\n",
    "        y = y[:n_batches*batch_size]\n",
    "\n",
    "    for i in range(0, len(x), batch_size):\n",
    "        if y is not None:\n",
    "            yield x[i:i+batch_size], y[i:i+batch_size]\n",
    "        else:\n",
    "            yield x[i:i+batch_size]"
   ]
  },
  {
   "cell_type": "markdown",
   "metadata": {},
   "source": [
    "### Параметры модели"
   ]
  },
  {
   "cell_type": "code",
   "execution_count": 18,
   "metadata": {},
   "outputs": [],
   "source": [
    "n_classes = 2\n",
    "n_features = len(counts) + 1\n",
    "epoch = 25\n",
    "batch_size = 16"
   ]
  },
  {
   "cell_type": "code",
   "execution_count": 19,
   "metadata": {},
   "outputs": [],
   "source": [
    "cb = []\n",
    "cb.append(EarlyStopping(monitor='val_loss', patience=5,\n",
    "                        verbose=0, mode='auto', \n",
    "                        restore_best_weights=False, \n",
    "                        baseline=None))\n",
    "\n",
    "cb_gru=[]\n",
    "cb_gru.append(EarlyStopping(monitor='val_loss', min_delta=0, patience=3,\n",
    "                        verbose=0, mode='auto', baseline=None,\n",
    "                        restore_best_weights=False))\n",
    "# cb_gru.append(tf.keras.callbacks.ModelCheckpoint('LSTM_try_v2/',\n",
    "#                                             monitor='acc',\n",
    "#                                             verbose=0,\n",
    "#                                             save_best_only=True,\n",
    "#                                             save_weights_only=False,\n",
    "#                                             mode='max',\n",
    "#                                             save_freq=1))"
   ]
  },
  {
   "cell_type": "code",
   "execution_count": 20,
   "metadata": {},
   "outputs": [],
   "source": [
    "def build_gru(n_features, sequence_length):\n",
    "    gru_model = tf.keras.models.Sequential()\n",
    "    gru_model.add(Embedding(input_dim=n_features, output_dim=64, input_length=sequence_length))\n",
    "    gru_model.add(Conv1D(filters=64, kernel_size=3, strides=1, padding='same', activation='relu'))\n",
    "    gru_model.add(MaxPool1D(pool_size=2, padding='same'))\n",
    "    gru_model.add(GRU(units=64))\n",
    "    gru_model.add(Dense(128, activation='tanh'))\n",
    "    gru_model.add(Dense(1, activation='sigmoid'))\n",
    "    \n",
    "    gru_model.compile(loss='binary_crossentropy',\n",
    "                      optimizer='rmsprop', metrics=['binary_crossentropy','acc'])\n",
    "    return gru_model"
   ]
  },
  {
   "cell_type": "code",
   "execution_count": 21,
   "metadata": {},
   "outputs": [
    {
     "name": "stdout",
     "output_type": "stream",
     "text": [
      "Model: \"sequential\"\n",
      "_________________________________________________________________\n",
      "Layer (type)                 Output Shape              Param #   \n",
      "=================================================================\n",
      "embedding (Embedding)        (None, 53, 64)            4160      \n",
      "_________________________________________________________________\n",
      "conv1d (Conv1D)              (None, 53, 64)            12352     \n",
      "_________________________________________________________________\n",
      "max_pooling1d (MaxPooling1D) (None, 27, 64)            0         \n",
      "_________________________________________________________________\n",
      "gru (GRU)                    (None, 64)                24960     \n",
      "_________________________________________________________________\n",
      "dense (Dense)                (None, 128)               8320      \n",
      "_________________________________________________________________\n",
      "dense_1 (Dense)              (None, 1)                 129       \n",
      "=================================================================\n",
      "Total params: 49,921\n",
      "Trainable params: 49,921\n",
      "Non-trainable params: 0\n",
      "_________________________________________________________________\n"
     ]
    }
   ],
   "source": [
    "gru_model = build_gru(n_features, sequence_length)\n",
    "gru_model.summary()"
   ]
  },
  {
   "cell_type": "code",
   "execution_count": 23,
   "metadata": {},
   "outputs": [],
   "source": [
    "# def gen_model(max_features, max_len):\n",
    "#     model = tf.keras.models.Sequential()\n",
    "#     model.add(Embedding(max_features, 64, input_length=max_len))\n",
    "#     model.add(LSTM(64))\n",
    "#     model.add(Dropout(0.5))\n",
    "#     model.add(Dense(1))\n",
    "#     model.add(Activation('sigmoid'))\n",
    "    \n",
    "#     model.compile(loss='binary_crossentropy', optimizer='rmsprop',\n",
    "#                  metrics=['binary_crossentropy', 'acc'])\n",
    "#     return model"
   ]
  },
  {
   "cell_type": "code",
   "execution_count": 24,
   "metadata": {},
   "outputs": [
    {
     "name": "stdout",
     "output_type": "stream",
     "text": [
      "Model: \"sequential_1\"\n",
      "_________________________________________________________________\n",
      "Layer (type)                 Output Shape              Param #   \n",
      "=================================================================\n",
      "embedding_1 (Embedding)      (None, 53, 64)            4160      \n",
      "_________________________________________________________________\n",
      "lstm (LSTM)                  (None, 64)                33024     \n",
      "_________________________________________________________________\n",
      "dropout (Dropout)            (None, 64)                0         \n",
      "_________________________________________________________________\n",
      "dense_2 (Dense)              (None, 1)                 65        \n",
      "_________________________________________________________________\n",
      "activation (Activation)      (None, 1)                 0         \n",
      "=================================================================\n",
      "Total params: 37,249\n",
      "Trainable params: 37,249\n",
      "Non-trainable params: 0\n",
      "_________________________________________________________________\n"
     ]
    },
    {
     "data": {
      "text/plain": [
       "array([0., 0., 1., 1., 0., 1., 1., 1., 1., 0.])"
      ]
     },
     "execution_count": 24,
     "metadata": {},
     "output_type": "execute_result"
    }
   ],
   "source": [
    "# model = gen_model(n_features, sequence_length)\n",
    "# model.summary()\n",
    "# Y_train[:10]"
   ]
  },
  {
   "cell_type": "code",
   "execution_count": 40,
   "metadata": {},
   "outputs": [],
   "source": [
    "# history = model.fit(X_train, Y_train, \n",
    "#                     batch_size=16, \n",
    "#                     epochs=epoch, \n",
    "#                     verbose=1, \n",
    "#                     callbacks=cb, \n",
    "#                     validation_split=0.2,\n",
    "#                     validation_data=None, \n",
    "#                     shuffle=True, \n",
    "#                     class_weight=None, \n",
    "#                     sample_weight=None, \n",
    "#                     initial_epoch=0,\n",
    "#                     steps_per_epoch=None, \n",
    "#                     validation_steps=None)"
   ]
  },
  {
   "cell_type": "code",
   "execution_count": 22,
   "metadata": {},
   "outputs": [
    {
     "name": "stdout",
     "output_type": "stream",
     "text": [
      "Epoch 1/25\n",
      "1449/1449 [==============================] - 9s 6ms/step - loss: 0.4269 - binary_crossentropy: 0.4269 - acc: 0.8149 - val_loss: 0.3528 - val_binary_crossentropy: 0.3528 - val_acc: 0.8474\n",
      "Epoch 2/25\n",
      "1449/1449 [==============================] - 9s 6ms/step - loss: 0.3308 - binary_crossentropy: 0.3308 - acc: 0.8590 - val_loss: 0.3209 - val_binary_crossentropy: 0.3209 - val_acc: 0.8609\n",
      "Epoch 3/25\n",
      "1449/1449 [==============================] - 9s 6ms/step - loss: 0.2938 - binary_crossentropy: 0.2938 - acc: 0.8776 - val_loss: 0.3139 - val_binary_crossentropy: 0.3139 - val_acc: 0.8747\n",
      "Epoch 4/25\n",
      "1449/1449 [==============================] - 9s 6ms/step - loss: 0.2729 - binary_crossentropy: 0.2729 - acc: 0.8864 - val_loss: 0.2780 - val_binary_crossentropy: 0.2780 - val_acc: 0.8868\n",
      "Epoch 5/25\n",
      "1449/1449 [==============================] - 9s 6ms/step - loss: 0.2521 - binary_crossentropy: 0.2521 - acc: 0.8976 - val_loss: 0.2951 - val_binary_crossentropy: 0.2951 - val_acc: 0.8835\n",
      "Epoch 6/25\n",
      "1449/1449 [==============================] - 9s 6ms/step - loss: 0.2333 - binary_crossentropy: 0.2333 - acc: 0.9049 - val_loss: 0.2592 - val_binary_crossentropy: 0.2592 - val_acc: 0.8918\n",
      "Epoch 7/25\n",
      "1449/1449 [==============================] - 9s 6ms/step - loss: 0.2200 - binary_crossentropy: 0.2200 - acc: 0.9134 - val_loss: 0.2488 - val_binary_crossentropy: 0.2488 - val_acc: 0.8973\n",
      "Epoch 8/25\n",
      "1449/1449 [==============================] - 9s 6ms/step - loss: 0.2056 - binary_crossentropy: 0.2056 - acc: 0.9185 - val_loss: 0.2540 - val_binary_crossentropy: 0.2540 - val_acc: 0.8958\n",
      "Epoch 9/25\n",
      "1449/1449 [==============================] - 9s 6ms/step - loss: 0.1924 - binary_crossentropy: 0.1924 - acc: 0.9240 - val_loss: 0.2796 - val_binary_crossentropy: 0.2796 - val_acc: 0.8914\n",
      "Epoch 10/25\n",
      "1449/1449 [==============================] - 9s 6ms/step - loss: 0.1795 - binary_crossentropy: 0.1795 - acc: 0.9290 - val_loss: 0.2531 - val_binary_crossentropy: 0.2531 - val_acc: 0.9023\n"
     ]
    }
   ],
   "source": [
    "history = gru_model.fit(X_train, Y_train, batch_size=16,\n",
    "                       validation_data=(X_test, Y_test),\n",
    "                       epochs=epoch,\n",
    "                       verbose=1, \n",
    "                    callbacks=cb_gru, \n",
    "                    shuffle=True, \n",
    "                    class_weight=None, \n",
    "                    sample_weight=None, \n",
    "                    initial_epoch=0) "
   ]
  },
  {
   "cell_type": "code",
   "execution_count": 33,
   "metadata": {},
   "outputs": [
    {
     "name": "stdout",
     "output_type": "stream",
     "text": [
      "INFO:tensorflow:Assets written to: GRU_W\\assets\n"
     ]
    }
   ],
   "source": [
    "gru_model.save('GRU_W')"
   ]
  },
  {
   "cell_type": "code",
   "execution_count": 24,
   "metadata": {},
   "outputs": [
    {
     "data": {
      "image/png": "[encoded data removed]",
      "text/plain": [
       "<Figure size 432x288 with 1 Axes>"
      ]
     },
     "metadata": {
      "needs_background": "light"
     },
     "output_type": "display_data"
    }
   ],
   "source": [
    "plt.plot(history.history['acc']) \n",
    "plt.plot(history.history['val_acc']) \n",
    "plt.title('Model accuracy') \n",
    "plt.ylabel('Accuracy') \n",
    "plt.xlabel('Epoch') \n",
    "plt.legend(['Train', 'Test'], loc='upper left') \n",
    "plt.show() "
   ]
  },
  {
   "cell_type": "code",
   "execution_count": 25,
   "metadata": {},
   "outputs": [
    {
     "data": {
      "image/png": "[encoded data removed]",
      "text/plain": [
       "<Figure size 432x288 with 1 Axes>"
      ]
     },
     "metadata": {
      "needs_background": "light"
     },
     "output_type": "display_data"
    }
   ],
   "source": [
    "plt.plot(history.history['loss']) \n",
    "plt.plot(history.history['val_loss']) \n",
    "plt.title('Model loss') \n",
    "plt.ylabel('Loss') \n",
    "plt.xlabel('Epoch') \n",
    "plt.legend(['Train', 'Test'], loc='upper left') \n",
    "plt.show()"
   ]
  },
  {
   "cell_type": "markdown",
   "metadata": {},
   "source": [
    "# Проверка"
   ]
  },
  {
   "cell_type": "code",
   "execution_count": 34,
   "metadata": {},
   "outputs": [],
   "source": [
    "model = tf.keras.models.load_model('GRU_W')"
   ]
  },
  {
   "cell_type": "markdown",
   "metadata": {},
   "source": [
    "#### Проверка на данных из train_test_split"
   ]
  },
  {
   "cell_type": "code",
   "execution_count": 35,
   "metadata": {},
   "outputs": [
    {
     "data": {
      "text/plain": [
       "{'roc_auc_score': 0.963743694430368}"
      ]
     },
     "execution_count": 35,
     "metadata": {},
     "output_type": "execute_result"
    }
   ],
   "source": [
    "result = {}\n",
    "Y_predict_value = model.predict(X_test)\n",
    "result['roc_auc_score'] = roc_auc_score(Y_test, Y_predict_value)\n",
    "result"
   ]
  },
  {
   "cell_type": "code",
   "execution_count": 45,
   "metadata": {},
   "outputs": [],
   "source": [
    "path_dga = #путь к файлу\n",
    "path_legit = #путь к файлу\n",
    "df_dga = pd.read_csv(path_dga, sep='\\t')\n",
    "df_legit = pd.read_csv(path_legit, sep='\\t')\n",
    "df_dga.columns = ['Domain', 'class']\n",
    "df_legit.columns = ['Domain']\n",
    "df_dga['class'] = 0\n",
    "df_legit['class'] = 1\n",
    "df = pd.concat([df_dga, df_legit], ignore_index=True)\n",
    "symbols = {'n': 1, 'r': 2, 's': 3, 'R': 4, 'o': 5, '2': 6, 'N': 7, 'I': 8, 'h': 9, 'K': 10,'L': 11, 'a': 12, 't': 13, 'v': 14, 'y': 15, 'M': 16, 'H': 17, 'C': 18, 'q': 19,'c': 20, 'w': 21, 'S': 22, 'T': 23,'G': 24, 'O': 25, 'k': 26, 'x': 27, 'p': 28, 'l': 29, 'u': 30, '6': 31, 'F': 32, 'A': 33, '3': 34, 'f': 35, 'D': 36, '.': 37, '9': 38, '8': 39, 'Y': 40, 'm': 41, 'b': 42, '1': 43, 'Q': 44, 'W': 45, 'd': 46, 'B': 47, 'U': 48, 'z': 49, 'J': 50, '4': 51, 'X': 52, 'j': 53, '-': 54, '0': 55, 'Z': 56,'P': 57, 'e': 58, 'g': 59,'E': 60, 'V': 61, '5': 62, 'i': 63, '7': 64}\n",
    "sequence_length = 53\n",
    "sampling_size = 100\n",
    "pos_neg_cutpoint = len(df_legit)\n",
    "pos_indices = random.sample(range(pos_neg_cutpoint),sampling_size)\n",
    "neg_indices = random.sample(range(pos_neg_cutpoint, len(df)),sampling_size)\n",
    "\n",
    "def data_preproc(path_dga, path_legit, symbols, sequence_length):\n",
    "    mapped_domains = []\n",
    "    classes = []\n",
    "    \n",
    "\n",
    "    for domain in df.Domain:\n",
    "        domain_int = []\n",
    "        for char in domain:\n",
    "            domain_int.append(symbols[char])\n",
    "        mapped_domains.append(domain_int)\n",
    "        \n",
    "    sequences = tf.keras.preprocessing.sequence.pad_sequences(mapped_domains, sequence_length)\n",
    "    \n",
    "    \n",
    "    \n",
    "    return sequences\n",
    "\n",
    "data = data_preproc(path_dga, path_legit, symbols, sequence_length)\n",
    "sequences_val2 = np.hstack([np.zeros(len(df_dga)), np.ones(len(df_legit))])\n",
    "\n",
    "X_test = data[pos_indices + neg_indices]\n",
    "Y_test = sequences_val2[pos_indices + neg_indices]"
   ]
  },
  {
   "cell_type": "markdown",
   "metadata": {},
   "source": [
    "#### Проверка на данных из предыдущего блока"
   ]
  },
  {
   "cell_type": "code",
   "execution_count": 48,
   "metadata": {},
   "outputs": [
    {
     "data": {
      "text/plain": [
       "{'roc_auc_score': 0.978943763928409}"
      ]
     },
     "execution_count": 48,
     "metadata": {},
     "output_type": "execute_result"
    }
   ],
   "source": [
    "result = {}\n",
    "Y_predict_value = model.predict(X_test)\n",
    "result['roc_auc_score'] = roc_auc_score(Y_test, Y_predict_value)\n",
    "result"
   ]
  },
  {
   "cell_type": "code",
   "execution_count": 72,
   "metadata": {},
   "outputs": [
    {
     "data": {
      "text/plain": [
       "array([0., 0., 0., ..., 0., 0., 0.])"
      ]
     },
     "execution_count": 72,
     "metadata": {},
     "output_type": "execute_result"
    }
   ],
   "source": []
  },
  {
   "cell_type": "code",
   "execution_count": null,
   "metadata": {},
   "outputs": [],
   "source": []
  }
 ],
 "metadata": {
  "kernelspec": {
   "display_name": "Python 3",
   "language": "python",
   "name": "python3"
  },
  "language_info": {
   "codemirror_mode": {
    "name": "ipython",
    "version": 3
   },
   "file_extension": ".py",
   "mimetype": "text/x-python",
   "name": "python",
   "nbconvert_exporter": "python",
   "pygments_lexer": "ipython3",
   "version": "3.8.3"
  }
 },
 "nbformat": 4,
 "nbformat_minor": 4
}
